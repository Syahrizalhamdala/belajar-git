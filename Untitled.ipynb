{
 "cells": [
  {
   "cell_type": "markdown",
   "id": "4a127bff-d647-4d98-8113-63a22e8800e6",
   "metadata": {},
   "source": [
    "<center>\n",
    "    <img src= \"\" width=\"200\"> \n",
    "    <table>\n",
    "        <tr>\n",
    "            <td>nama</td>\n",
    "            <td>:</td>\n",
    "            <td>syahrizal hamdala</td>\n",
    "        </tr>\n",
    "        <tr>\n",
    "            <td>nim</td>\n",
    "            <td>:</td>\n",
    "            <td>20240040310</td>\n",
    "        </tr>\n",
    "        <tr>\n",
    "            <td>tempat tanggal lahir</td>\n",
    "            <td>:</td>\n",
    "            <td>lasusua 5 desember 2009</td>\n",
    "        </tr>\n",
    "    </table>\n",
    "        \n",
    "</center>\n"
   ]
  },
  {
   "cell_type": "markdown",
   "id": "9c50c702-e90e-4546-8b2a-4f5cf7e0c161",
   "metadata": {},
   "source": []
  }
 ],
 "metadata": {
  "kernelspec": {
   "display_name": "Python [conda env:base] *",
   "language": "python",
   "name": "conda-base-py"
  },
  "language_info": {
   "codemirror_mode": {
    "name": "ipython",
    "version": 3
   },
   "file_extension": ".py",
   "mimetype": "text/x-python",
   "name": "python",
   "nbconvert_exporter": "python",
   "pygments_lexer": "ipython3",
   "version": "3.12.7"
  }
 },
 "nbformat": 4,
 "nbformat_minor": 5
}
